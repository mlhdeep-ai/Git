{
 "cells": [
  {
   "cell_type": "markdown",
   "id": "f0b6e047-879b-469d-a565-fd0bda238b72",
   "metadata": {},
   "source": [
    "# Git"
   ]
  },
  {
   "cell_type": "markdown",
   "id": "0e6d7754-2c9a-485a-96fb-c01ba763832e",
   "metadata": {},
   "source": [
    "Distributed Version Control System (VCS)"
   ]
  },
  {
   "cell_type": "markdown",
   "id": "d06cbcfc-1aaf-4752-92b7-d5153fcdd79f",
   "metadata": {},
   "source": [
    "> Install git (git-scm.com)"
   ]
  },
  {
   "cell_type": "markdown",
   "id": "22d39caa-d394-49cb-a68a-009b58154862",
   "metadata": {},
   "source": [
    "> Open CMD"
   ]
  },
  {
   "cell_type": "markdown",
   "id": "f8489202-7340-4efb-8cdb-6d54f2c1508e",
   "metadata": {},
   "source": [
    "> cd /d /path/.../projectFolder ==> cd /d F:\\Machine_Learning"
   ]
  },
  {
   "cell_type": "markdown",
   "id": "4949c95d-ade4-440f-ad9e-17c774c90406",
   "metadata": {},
   "source": [
    "> git init"
   ]
  },
  {
   "cell_type": "markdown",
   "id": "51170706-8009-4f5f-86ed-f354ecb6e3c1",
   "metadata": {},
   "source": [
    "> git status"
   ]
  },
  {
   "cell_type": "markdown",
   "id": "41550658-7cac-4e48-a3dc-5471263af3d3",
   "metadata": {},
   "source": [
    "> git add -A (or myCode.py)  # Go in stage(Tracked), Readey for Commit"
   ]
  },
  {
   "cell_type": "markdown",
   "id": "026d554a-9f22-45f5-a616-c6cda5446662",
   "metadata": {},
   "source": [
    "> git status"
   ]
  },
  {
   "cell_type": "markdown",
   "id": "0d0bed89-f986-46e3-a835-dba347bc3025",
   "metadata": {},
   "source": [
    "> git commit -m \"Your Message\""
   ]
  },
  {
   "cell_type": "markdown",
   "id": "a0de7f8d-f7ad-4737-9dcd-b9963a2ce2eb",
   "metadata": {},
   "source": [
    "> git status"
   ]
  },
  {
   "cell_type": "markdown",
   "id": "2c9b48a8-26d9-4776-949c-209bd1115243",
   "metadata": {},
   "source": [
    "> git branch  # Show all branches and active branch"
   ]
  },
  {
   "cell_type": "markdown",
   "id": "2cf54a34-8fa9-429e-8947-daf9365a6101",
   "metadata": {},
   "source": [
    "> git branch -M main  # rename the current branch to main"
   ]
  },
  {
   "cell_type": "markdown",
   "id": "641a2d4c-efee-41e0-a070-f720a237bc1f",
   "metadata": {},
   "source": [
    "> git remote add origin https://github.com/mlhdeep-ai/Machine-Learning.git"
   ]
  },
  {
   "cell_type": "markdown",
   "id": "08bf3244-659f-4688-8c8d-6588cd34de27",
   "metadata": {},
   "source": [
    "> git push -u origin main"
   ]
  },
  {
   "cell_type": "markdown",
   "id": "c94235e5-10a5-4301-af2b-363c0ac5b3f5",
   "metadata": {},
   "source": []
  },
  {
   "cell_type": "markdown",
   "id": "2c488a71-d8cf-4493-9725-22a234f10acb",
   "metadata": {},
   "source": []
  },
  {
   "cell_type": "markdown",
   "id": "304d920b-c790-4291-b3c6-d91e7ae281fd",
   "metadata": {},
   "source": []
  },
  {
   "cell_type": "markdown",
   "id": "23e4d7f5-3052-4032-8470-effe5521596b",
   "metadata": {},
   "source": []
  },
  {
   "cell_type": "markdown",
   "id": "4014151c-1319-4b05-8ab3-0b069fbb7e04",
   "metadata": {},
   "source": []
  },
  {
   "cell_type": "markdown",
   "id": "169ac92c-b0e8-47e0-9a22-23c57fb89854",
   "metadata": {},
   "source": []
  }
 ],
 "metadata": {
  "kernelspec": {
   "display_name": "Python 3 (ipykernel)",
   "language": "python",
   "name": "python3"
  },
  "language_info": {
   "codemirror_mode": {
    "name": "ipython",
    "version": 3
   },
   "file_extension": ".py",
   "mimetype": "text/x-python",
   "name": "python",
   "nbconvert_exporter": "python",
   "pygments_lexer": "ipython3",
   "version": "3.11.5"
  }
 },
 "nbformat": 4,
 "nbformat_minor": 5
}
