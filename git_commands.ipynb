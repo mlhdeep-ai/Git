{
 "cells": [
  {
   "cell_type": "markdown",
   "id": "f0b6e047-879b-469d-a565-fd0bda238b72",
   "metadata": {},
   "source": [
    "# Git"
   ]
  },
  {
   "cell_type": "markdown",
   "id": "0e6d7754-2c9a-485a-96fb-c01ba763832e",
   "metadata": {},
   "source": [
    "Distributed Version Control System (VCS)"
   ]
  },
  {
   "cell_type": "markdown",
   "id": "d06cbcfc-1aaf-4752-92b7-d5153fcdd79f",
   "metadata": {},
   "source": [
    "> Install git (git-scm.com)"
   ]
  },
  {
   "cell_type": "raw",
   "id": "a7d29cd1-afd7-4c4c-9a99-f3a5a72234d9",
   "metadata": {},
   "source": [
    ">> Open CMD"
   ]
  },
  {
   "cell_type": "raw",
   "id": "c8eeea40-ebab-4f47-94f2-f2ef7e04deca",
   "metadata": {},
   "source": [
    ">> cd /d /path/.../projectFolder ==> cd /d F:\\Machine_Learning"
   ]
  },
  {
   "cell_type": "raw",
   "id": "3dd43f4d-288c-4bed-a9bc-84a53b44663e",
   "metadata": {},
   "source": [
    ">> git init"
   ]
  },
  {
   "cell_type": "raw",
   "id": "d5fcae17-e128-4c5b-b03f-54df6b75640b",
   "metadata": {},
   "source": [
    ">> git status"
   ]
  },
  {
   "cell_type": "raw",
   "id": "19e0c1b4-cd3d-4658-a2ff-3db3a4b2c1cf",
   "metadata": {},
   "source": [
    ">> git add -A (or myCode.py)  # Go in stage(Tracked), Readey for Commit"
   ]
  },
  {
   "cell_type": "raw",
   "id": "5677cf99-2881-435c-af5a-e5d6ccc6b422",
   "metadata": {},
   "source": [
    ">> git status"
   ]
  },
  {
   "cell_type": "raw",
   "id": "abb4fd44-9e18-4400-ab2b-e69858ce6424",
   "metadata": {},
   "source": [
    ">> git commit -m \"Your Message\""
   ]
  },
  {
   "cell_type": "raw",
   "id": "a36132de-4d34-4068-a589-3f2f7e96ee9f",
   "metadata": {},
   "source": [
    ">> git status"
   ]
  },
  {
   "cell_type": "raw",
   "id": "81ca5003-afda-4a6a-b1d5-3f043bbee44e",
   "metadata": {},
   "source": [
    ">> git branch  # Show all branches and active branch"
   ]
  },
  {
   "cell_type": "raw",
   "id": "6d8529f4-a40f-4ca9-82cd-869200af39f7",
   "metadata": {},
   "source": [
    ">> git branch -M main  # rename the current branch to main"
   ]
  },
  {
   "cell_type": "raw",
   "id": "8d624b43-2e75-44fb-a72e-7110a805aebc",
   "metadata": {},
   "source": [
    ">> git remote add origin https://github.com/mlhdeep-ai/Machine-Learning.git"
   ]
  },
  {
   "cell_type": "raw",
   "id": "28680ba9-332e-40aa-ac91-df6b010035df",
   "metadata": {},
   "source": [
    ">> git push -u origin main"
   ]
  },
  {
   "cell_type": "raw",
   "id": "3ffc2515-4800-4f8d-baf8-7000d6dbb2c5",
   "metadata": {},
   "source": [
    ">> "
   ]
  },
  {
   "cell_type": "raw",
   "id": "8c3fed07-9ffb-4ae9-9e83-60d9729ec4e7",
   "metadata": {},
   "source": [
    ">> "
   ]
  },
  {
   "cell_type": "raw",
   "id": "25e866fc-6b4c-4238-9824-14741c04a4e3",
   "metadata": {},
   "source": [
    ">> "
   ]
  }
 ],
 "metadata": {
  "kernelspec": {
   "display_name": "Python 3 (ipykernel)",
   "language": "python",
   "name": "python3"
  },
  "language_info": {
   "codemirror_mode": {
    "name": "ipython",
    "version": 3
   },
   "file_extension": ".py",
   "mimetype": "text/x-python",
   "name": "python",
   "nbconvert_exporter": "python",
   "pygments_lexer": "ipython3",
   "version": "3.11.5"
  }
 },
 "nbformat": 4,
 "nbformat_minor": 5
}
